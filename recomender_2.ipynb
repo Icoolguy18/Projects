{
 "cells": [
  {
   "cell_type": "code",
   "execution_count": 72,
   "id": "1b2f880a-7ed1-4ead-8d8a-d90f6a4c01c3",
   "metadata": {
    "tags": []
   },
   "outputs": [
    {
     "data": {
      "text/html": [
       "<div>\n",
       "<style scoped>\n",
       "    .dataframe tbody tr th:only-of-type {\n",
       "        vertical-align: middle;\n",
       "    }\n",
       "\n",
       "    .dataframe tbody tr th {\n",
       "        vertical-align: top;\n",
       "    }\n",
       "\n",
       "    .dataframe thead th {\n",
       "        text-align: right;\n",
       "    }\n",
       "</style>\n",
       "<table border=\"1\" class=\"dataframe\">\n",
       "  <thead>\n",
       "    <tr style=\"text-align: right;\">\n",
       "      <th></th>\n",
       "      <th>p_id</th>\n",
       "      <th>price</th>\n",
       "      <th>ratingCount</th>\n",
       "      <th>avg_rating</th>\n",
       "    </tr>\n",
       "  </thead>\n",
       "  <tbody>\n",
       "    <tr>\n",
       "      <th>count</th>\n",
       "      <td>1.000000e+04</td>\n",
       "      <td>10000.000000</td>\n",
       "      <td>10000.000000</td>\n",
       "      <td>10000.000000</td>\n",
       "    </tr>\n",
       "    <tr>\n",
       "      <th>mean</th>\n",
       "      <td>1.588028e+07</td>\n",
       "      <td>2750.449800</td>\n",
       "      <td>199.822660</td>\n",
       "      <td>4.094014</td>\n",
       "    </tr>\n",
       "    <tr>\n",
       "      <th>std</th>\n",
       "      <td>3.060857e+06</td>\n",
       "      <td>2044.243978</td>\n",
       "      <td>605.891248</td>\n",
       "      <td>0.323250</td>\n",
       "    </tr>\n",
       "    <tr>\n",
       "      <th>min</th>\n",
       "      <td>7.016600e+04</td>\n",
       "      <td>169.000000</td>\n",
       "      <td>1.000000</td>\n",
       "      <td>1.000000</td>\n",
       "    </tr>\n",
       "    <tr>\n",
       "      <th>25%</th>\n",
       "      <td>1.432358e+07</td>\n",
       "      <td>1499.000000</td>\n",
       "      <td>27.000000</td>\n",
       "      <td>4.101226</td>\n",
       "    </tr>\n",
       "    <tr>\n",
       "      <th>50%</th>\n",
       "      <td>1.665372e+07</td>\n",
       "      <td>2199.000000</td>\n",
       "      <td>184.479410</td>\n",
       "      <td>4.101226</td>\n",
       "    </tr>\n",
       "    <tr>\n",
       "      <th>75%</th>\n",
       "      <td>1.820759e+07</td>\n",
       "      <td>3299.000000</td>\n",
       "      <td>184.479410</td>\n",
       "      <td>4.153016</td>\n",
       "    </tr>\n",
       "    <tr>\n",
       "      <th>max</th>\n",
       "      <td>1.941485e+07</td>\n",
       "      <td>30000.000000</td>\n",
       "      <td>21274.000000</td>\n",
       "      <td>5.000000</td>\n",
       "    </tr>\n",
       "  </tbody>\n",
       "</table>\n",
       "</div>"
      ],
      "text/plain": [
       "               p_id         price   ratingCount    avg_rating\n",
       "count  1.000000e+04  10000.000000  10000.000000  10000.000000\n",
       "mean   1.588028e+07   2750.449800    199.822660      4.094014\n",
       "std    3.060857e+06   2044.243978    605.891248      0.323250\n",
       "min    7.016600e+04    169.000000      1.000000      1.000000\n",
       "25%    1.432358e+07   1499.000000     27.000000      4.101226\n",
       "50%    1.665372e+07   2199.000000    184.479410      4.101226\n",
       "75%    1.820759e+07   3299.000000    184.479410      4.153016\n",
       "max    1.941485e+07  30000.000000  21274.000000      5.000000"
      ]
     },
     "execution_count": 72,
     "metadata": {},
     "output_type": "execute_result"
    }
   ],
   "source": [
    "import pandas as pd\n",
    "df = pd.read_csv(r\"C:\\Users\\ojas2\\Downloads\\cleaned_data_final.csv\")\n",
    "df.describe()"
   ]
  },
  {
   "cell_type": "code",
   "execution_count": 73,
   "id": "a08c8ded-6ffe-4248-b3bf-d69842463759",
   "metadata": {
    "tags": []
   },
   "outputs": [
    {
     "data": {
      "text/html": [
       "<div>\n",
       "<style scoped>\n",
       "    .dataframe tbody tr th:only-of-type {\n",
       "        vertical-align: middle;\n",
       "    }\n",
       "\n",
       "    .dataframe tbody tr th {\n",
       "        vertical-align: top;\n",
       "    }\n",
       "\n",
       "    .dataframe thead th {\n",
       "        text-align: right;\n",
       "    }\n",
       "</style>\n",
       "<table border=\"1\" class=\"dataframe\">\n",
       "  <thead>\n",
       "    <tr style=\"text-align: right;\">\n",
       "      <th></th>\n",
       "      <th>p_id</th>\n",
       "      <th>name</th>\n",
       "      <th>price</th>\n",
       "      <th>colour</th>\n",
       "      <th>brand</th>\n",
       "      <th>img</th>\n",
       "      <th>ratingCount</th>\n",
       "      <th>avg_rating</th>\n",
       "      <th>description</th>\n",
       "    </tr>\n",
       "  </thead>\n",
       "  <tbody>\n",
       "    <tr>\n",
       "      <th>0</th>\n",
       "      <td>17048614.0</td>\n",
       "      <td>Khushal K Women Black Ethnic Motifs Printed Ku...</td>\n",
       "      <td>5099.0</td>\n",
       "      <td>Black</td>\n",
       "      <td>Khushal K</td>\n",
       "      <td>http://assets.myntassets.com/assets/images/170...</td>\n",
       "      <td>4522.0</td>\n",
       "      <td>4.418399</td>\n",
       "      <td>Black printed Kurta with Palazzos with dupatta...</td>\n",
       "    </tr>\n",
       "    <tr>\n",
       "      <th>1</th>\n",
       "      <td>16524740.0</td>\n",
       "      <td>InWeave Women Orange Solid Kurta with Palazzos...</td>\n",
       "      <td>5899.0</td>\n",
       "      <td>Orange</td>\n",
       "      <td>InWeave</td>\n",
       "      <td>http://assets.myntassets.com/assets/images/165...</td>\n",
       "      <td>1081.0</td>\n",
       "      <td>4.119334</td>\n",
       "      <td>Orange solid Kurta with Palazzos with dupatta&lt;...</td>\n",
       "    </tr>\n",
       "    <tr>\n",
       "      <th>2</th>\n",
       "      <td>16331376.0</td>\n",
       "      <td>Anubhutee Women Navy Blue Ethnic Motifs Embroi...</td>\n",
       "      <td>4899.0</td>\n",
       "      <td>Navy Blue</td>\n",
       "      <td>Anubhutee</td>\n",
       "      <td>http://assets.myntassets.com/assets/images/163...</td>\n",
       "      <td>1752.0</td>\n",
       "      <td>4.161530</td>\n",
       "      <td>Navy blue embroidered Kurta with Trousers with...</td>\n",
       "    </tr>\n",
       "    <tr>\n",
       "      <th>3</th>\n",
       "      <td>14709966.0</td>\n",
       "      <td>Nayo Women Red Floral Printed Kurta With Trous...</td>\n",
       "      <td>3699.0</td>\n",
       "      <td>Red</td>\n",
       "      <td>Nayo</td>\n",
       "      <td>http://assets.myntassets.com/assets/images/147...</td>\n",
       "      <td>4113.0</td>\n",
       "      <td>4.088986</td>\n",
       "      <td>Red printed kurta with trouser and dupatta&lt;br&gt;...</td>\n",
       "    </tr>\n",
       "    <tr>\n",
       "      <th>4</th>\n",
       "      <td>11056154.0</td>\n",
       "      <td>AHIKA Women Black &amp; Green Printed Straight Kurta</td>\n",
       "      <td>1350.0</td>\n",
       "      <td>Black</td>\n",
       "      <td>AHIKA</td>\n",
       "      <td>http://assets.myntassets.com/assets/images/110...</td>\n",
       "      <td>21274.0</td>\n",
       "      <td>3.978377</td>\n",
       "      <td>Black and green printed straight kurta, has a ...</td>\n",
       "    </tr>\n",
       "  </tbody>\n",
       "</table>\n",
       "</div>"
      ],
      "text/plain": [
       "         p_id                                               name   price  \\\n",
       "0  17048614.0  Khushal K Women Black Ethnic Motifs Printed Ku...  5099.0   \n",
       "1  16524740.0  InWeave Women Orange Solid Kurta with Palazzos...  5899.0   \n",
       "2  16331376.0  Anubhutee Women Navy Blue Ethnic Motifs Embroi...  4899.0   \n",
       "3  14709966.0  Nayo Women Red Floral Printed Kurta With Trous...  3699.0   \n",
       "4  11056154.0   AHIKA Women Black & Green Printed Straight Kurta  1350.0   \n",
       "\n",
       "      colour      brand                                                img  \\\n",
       "0      Black  Khushal K  http://assets.myntassets.com/assets/images/170...   \n",
       "1     Orange    InWeave  http://assets.myntassets.com/assets/images/165...   \n",
       "2  Navy Blue  Anubhutee  http://assets.myntassets.com/assets/images/163...   \n",
       "3        Red       Nayo  http://assets.myntassets.com/assets/images/147...   \n",
       "4      Black      AHIKA  http://assets.myntassets.com/assets/images/110...   \n",
       "\n",
       "   ratingCount  avg_rating                                        description  \n",
       "0       4522.0    4.418399  Black printed Kurta with Palazzos with dupatta...  \n",
       "1       1081.0    4.119334  Orange solid Kurta with Palazzos with dupatta<...  \n",
       "2       1752.0    4.161530  Navy blue embroidered Kurta with Trousers with...  \n",
       "3       4113.0    4.088986  Red printed kurta with trouser and dupatta<br>...  \n",
       "4      21274.0    3.978377  Black and green printed straight kurta, has a ...  "
      ]
     },
     "execution_count": 73,
     "metadata": {},
     "output_type": "execute_result"
    }
   ],
   "source": [
    "df.head()"
   ]
  },
  {
   "cell_type": "code",
   "execution_count": 74,
   "id": "9f208882-e2c3-4c64-ad64-e98faeecb88f",
   "metadata": {
    "tags": []
   },
   "outputs": [
    {
     "data": {
      "text/html": [
       "<div>\n",
       "<style scoped>\n",
       "    .dataframe tbody tr th:only-of-type {\n",
       "        vertical-align: middle;\n",
       "    }\n",
       "\n",
       "    .dataframe tbody tr th {\n",
       "        vertical-align: top;\n",
       "    }\n",
       "\n",
       "    .dataframe thead th {\n",
       "        text-align: right;\n",
       "    }\n",
       "</style>\n",
       "<table border=\"1\" class=\"dataframe\">\n",
       "  <thead>\n",
       "    <tr style=\"text-align: right;\">\n",
       "      <th></th>\n",
       "      <th>p_id</th>\n",
       "      <th>description</th>\n",
       "    </tr>\n",
       "  </thead>\n",
       "  <tbody>\n",
       "    <tr>\n",
       "      <th>0</th>\n",
       "      <td>17048614.0</td>\n",
       "      <td>Black printed Kurta with Palazzos with dupatta...</td>\n",
       "    </tr>\n",
       "    <tr>\n",
       "      <th>1</th>\n",
       "      <td>16524740.0</td>\n",
       "      <td>Orange solid Kurta with Palazzos with dupatta&lt;...</td>\n",
       "    </tr>\n",
       "    <tr>\n",
       "      <th>2</th>\n",
       "      <td>16331376.0</td>\n",
       "      <td>Navy blue embroidered Kurta with Trousers with...</td>\n",
       "    </tr>\n",
       "    <tr>\n",
       "      <th>3</th>\n",
       "      <td>14709966.0</td>\n",
       "      <td>Red printed kurta with trouser and dupatta&lt;br&gt;...</td>\n",
       "    </tr>\n",
       "    <tr>\n",
       "      <th>4</th>\n",
       "      <td>11056154.0</td>\n",
       "      <td>Black and green printed straight kurta, has a ...</td>\n",
       "    </tr>\n",
       "  </tbody>\n",
       "</table>\n",
       "</div>"
      ],
      "text/plain": [
       "         p_id                                        description\n",
       "0  17048614.0  Black printed Kurta with Palazzos with dupatta...\n",
       "1  16524740.0  Orange solid Kurta with Palazzos with dupatta<...\n",
       "2  16331376.0  Navy blue embroidered Kurta with Trousers with...\n",
       "3  14709966.0  Red printed kurta with trouser and dupatta<br>...\n",
       "4  11056154.0  Black and green printed straight kurta, has a ..."
      ]
     },
     "execution_count": 74,
     "metadata": {},
     "output_type": "execute_result"
    }
   ],
   "source": [
    "desc = df[['p_id', 'description']]\n",
    "desc.head()"
   ]
  },
  {
   "cell_type": "code",
   "execution_count": 75,
   "id": "7d0f2344-8be1-470e-a52a-b9114b803597",
   "metadata": {
    "tags": []
   },
   "outputs": [
    {
     "name": "stdout",
     "output_type": "stream",
     "text": [
      "0       Black printed Kurta with Palazzos with dupatta...\n",
      "1       Orange solid Kurta with Palazzos with dupatta<...\n",
      "2       Navy blue embroidered Kurta with Trousers with...\n",
      "3       Red printed kurta with trouser and dupatta<br>...\n",
      "4       Black and green printed straight kurta, has a ...\n",
      "                              ...                        \n",
      "9995    Beige and blue solid lehenga choli with dupatt...\n",
      "9996    Red and white embroidered lehenga choli with d...\n",
      "9997    Red and beige embellished lehenga choli with d...\n",
      "9998    Sea green and gold-toned embellished lehenga c...\n",
      "9999    Yellow and pink woven design lehenga choli wit...\n",
      "Name: description, Length: 10000, dtype: object\n"
     ]
    }
   ],
   "source": [
    "print(desc['description'])"
   ]
  },
  {
   "cell_type": "code",
   "execution_count": 76,
   "id": "a15dd55a-7692-4bc6-a531-d2a54fe0cfac",
   "metadata": {},
   "outputs": [],
   "source": [
    "from sklearn.feature_extraction.text import TfidfVectorizer\n",
    "from sklearn.metrics.pairwise import cosine_similarity\n",
    "from bs4 import BeautifulSoup  # Import for HTML parsing"
   ]
  },
  {
   "cell_type": "code",
   "execution_count": 77,
   "id": "33849c12-fe14-4ec5-97cd-8cc0a4390f2b",
   "metadata": {
    "tags": []
   },
   "outputs": [],
   "source": [
    "liked_product_id = \"17048614.0\""
   ]
  },
  {
   "cell_type": "code",
   "execution_count": 78,
   "id": "3f6b2446-3ea0-48d1-9bf0-b1cb3ce7fd1a",
   "metadata": {
    "tags": []
   },
   "outputs": [
    {
     "name": "stderr",
     "output_type": "stream",
     "text": [
      "[nltk_data] Downloading package stopwords to\n",
      "[nltk_data]     C:\\Users\\ojas2\\AppData\\Roaming\\nltk_data...\n",
      "[nltk_data]   Package stopwords is already up-to-date!\n",
      "[nltk_data] Downloading package punkt to\n",
      "[nltk_data]     C:\\Users\\ojas2\\AppData\\Roaming\\nltk_data...\n",
      "[nltk_data]   Package punkt is already up-to-date!\n"
     ]
    },
    {
     "data": {
      "text/plain": [
       "True"
      ]
     },
     "execution_count": 78,
     "metadata": {},
     "output_type": "execute_result"
    }
   ],
   "source": [
    "import pandas as pd\n",
    "import string\n",
    "from nltk.corpus import stopwords\n",
    "from nltk.tokenize import word_tokenize\n",
    "'''\n",
    "# Example DataFrame\n",
    "data = {'text_column': [\"This is an example sentence.\", \"Another sentence with punctuation!\", \"And here's one more sentence.\"]}\n",
    "df = pd.DataFrame(data)'''\n",
    "\n",
    "# Download NLTK resources\n",
    "import nltk\n",
    "nltk.download('stopwords')\n",
    "nltk.download('punkt')"
   ]
  },
  {
   "cell_type": "code",
   "execution_count": 79,
   "id": "e65166b4-cf53-4e1e-a960-52076cf47ba6",
   "metadata": {
    "tags": []
   },
   "outputs": [],
   "source": [
    "# Define a function to clean HTML from descriptions\n",
    "def clean_html(text):\n",
    "  soup = BeautifulSoup(text, \"html.parser\")\n",
    "  return soup.get_text(separator=\" \")  # Remove HTML tags and keep text"
   ]
  },
  {
   "cell_type": "code",
   "execution_count": 80,
   "id": "2167d79b-71a0-422e-b5da-d8103c4bb050",
   "metadata": {
    "tags": []
   },
   "outputs": [
    {
     "name": "stdout",
     "output_type": "stream",
     "text": [
      "0       Black printed Kurta with Palazzos with dupatta...\n",
      "1       Orange solid Kurta with Palazzos with dupatta ...\n",
      "2       Navy blue embroidered Kurta with Trousers with...\n",
      "3       Red printed kurta with trouser and dupatta Kur...\n",
      "4       Black and green printed straight kurta, has a ...\n",
      "                              ...                        \n",
      "9995    Beige and blue solid lehenga choli with dupatt...\n",
      "9996    Red and white embroidered lehenga choli with d...\n",
      "9997    Red and beige embellished lehenga choli with d...\n",
      "9998    Sea green and gold-toned embellished lehenga c...\n",
      "9999    Yellow and pink woven design lehenga choli wit...\n",
      "Name: new_desc, Length: 10000, dtype: object\n"
     ]
    },
    {
     "name": "stderr",
     "output_type": "stream",
     "text": [
      "C:\\Users\\ojas2\\AppData\\Local\\Temp\\ipykernel_19388\\3538855285.py:2: SettingWithCopyWarning: \n",
      "A value is trying to be set on a copy of a slice from a DataFrame.\n",
      "Try using .loc[row_indexer,col_indexer] = value instead\n",
      "\n",
      "See the caveats in the documentation: https://pandas.pydata.org/pandas-docs/stable/user_guide/indexing.html#returning-a-view-versus-a-copy\n",
      "  desc['new_desc'] = desc[\"description\"].apply(clean_html)\n"
     ]
    }
   ],
   "source": [
    "# Clean descriptions and create TF-IDF vectors\n",
    "desc['new_desc'] = desc[\"description\"].apply(clean_html)\n",
    "print(desc['new_desc'])"
   ]
  },
  {
   "cell_type": "code",
   "execution_count": 81,
   "id": "fe3285ff-2714-40b8-8c10-51d532757832",
   "metadata": {
    "tags": []
   },
   "outputs": [
    {
     "name": "stdout",
     "output_type": "stream",
     "text": [
      "0       Black printed Kurta Palazzos dupatta Kurta des...\n",
      "1       Orange solid Kurta Palazzos dupatta Kurta desi...\n",
      "2       Navy blue embroidered Kurta Trousers dupatta K...\n",
      "3       Red printed kurta trouser dupatta Kurta design...\n",
      "4       Black green printed straight kurta nitched rou...\n",
      "                              ...                        \n",
      "9995    Beige blue solid lehenga choli dupatta Beige b...\n",
      "9996    Red white embroidered lehenga choli dupatta sh...\n",
      "9997    Red beige embellished lehenga choli dupatta Re...\n",
      "9998    Sea green gold-toned embellished lehenga choli...\n",
      "9999    Yellow pink woven design lehenga choli dupatta...\n",
      "Name: processed_text, Length: 10000, dtype: object\n"
     ]
    },
    {
     "name": "stderr",
     "output_type": "stream",
     "text": [
      "C:\\Users\\ojas2\\AppData\\Local\\Temp\\ipykernel_19388\\1901967312.py:15: SettingWithCopyWarning: \n",
      "A value is trying to be set on a copy of a slice from a DataFrame.\n",
      "Try using .loc[row_indexer,col_indexer] = value instead\n",
      "\n",
      "See the caveats in the documentation: https://pandas.pydata.org/pandas-docs/stable/user_guide/indexing.html#returning-a-view-versus-a-copy\n",
      "  desc['processed_text'] = desc['new_desc'].apply(preprocess_text)\n"
     ]
    }
   ],
   "source": [
    "# Function to preprocess text\n",
    "def preprocess_text(text):\n",
    "    # Tokenize text\n",
    "    tokens = word_tokenize(text)\n",
    "    # Remove punctuation\n",
    "    tokens = [word for word in tokens if word not in string.punctuation]\n",
    "    # Remove stopwords\n",
    "    stop_words = set(stopwords.words('english'))\n",
    "    tokens = [word for word in tokens if word.lower() not in stop_words]\n",
    "    # Join tokens back into a string\n",
    "    preprocessed_text = ' '.join(tokens)\n",
    "    return preprocessed_text\n",
    "\n",
    "# Apply preprocessing to each row in the DataFrame\n",
    "desc['processed_text'] = desc['new_desc'].apply(preprocess_text)\n",
    "\n",
    "# Display the DataFrame with processed text\n",
    "print(desc['processed_text'])\n",
    "desc.to_csv('processed_csv.csv')"
   ]
  },
  {
   "cell_type": "code",
   "execution_count": 82,
   "id": "3c8df38b-29bd-4d62-84a7-03c86566d2c0",
   "metadata": {
    "tags": []
   },
   "outputs": [
    {
     "name": "stderr",
     "output_type": "stream",
     "text": [
      "C:\\Users\\ojas2\\AppData\\Local\\Temp\\ipykernel_19388\\2211694018.py:14: SettingWithCopyWarning: \n",
      "A value is trying to be set on a copy of a slice from a DataFrame.\n",
      "Try using .loc[row_indexer,col_indexer] = value instead\n",
      "\n",
      "See the caveats in the documentation: https://pandas.pydata.org/pandas-docs/stable/user_guide/indexing.html#returning-a-view-versus-a-copy\n",
      "  desc['final_edit'] = desc['processed_text'].apply(remove_pattern)\n"
     ]
    },
    {
     "name": "stdout",
     "output_type": "stream",
     "text": [
      "            p_id                                        description  \\\n",
      "0     17048614.0  Black printed Kurta with Palazzos with dupatta...   \n",
      "1     16524740.0  Orange solid Kurta with Palazzos with dupatta<...   \n",
      "2     16331376.0  Navy blue embroidered Kurta with Trousers with...   \n",
      "3     14709966.0  Red printed kurta with trouser and dupatta<br>...   \n",
      "4     11056154.0  Black and green printed straight kurta, has a ...   \n",
      "...          ...                                                ...   \n",
      "9995  18704014.0  Beige and blue solid lehenga choli with dupatt...   \n",
      "9996  18508782.0  Red and white embroidered lehenga choli with d...   \n",
      "9997  14620590.0  Red and beige embellished lehenga choli with d...   \n",
      "9998  14539442.0  Sea green and gold-toned embellished lehenga c...   \n",
      "9999  14499100.0  Yellow and pink woven design lehenga choli wit...   \n",
      "\n",
      "                                               new_desc  \\\n",
      "0     Black printed Kurta with Palazzos with dupatta...   \n",
      "1     Orange solid Kurta with Palazzos with dupatta ...   \n",
      "2     Navy blue embroidered Kurta with Trousers with...   \n",
      "3     Red printed kurta with trouser and dupatta Kur...   \n",
      "4     Black and green printed straight kurta, has a ...   \n",
      "...                                                 ...   \n",
      "9995  Beige and blue solid lehenga choli with dupatt...   \n",
      "9996  Red and white embroidered lehenga choli with d...   \n",
      "9997  Red and beige embellished lehenga choli with d...   \n",
      "9998  Sea green and gold-toned embellished lehenga c...   \n",
      "9999  Yellow and pink woven design lehenga choli wit...   \n",
      "\n",
      "                                         processed_text  \\\n",
      "0     Black printed Kurta Palazzos dupatta Kurta des...   \n",
      "1     Orange solid Kurta Palazzos dupatta Kurta desi...   \n",
      "2     Navy blue embroidered Kurta Trousers dupatta K...   \n",
      "3     Red printed kurta trouser dupatta Kurta design...   \n",
      "4     Black green printed straight kurta nitched rou...   \n",
      "...                                                 ...   \n",
      "9995  Beige blue solid lehenga choli dupatta Beige b...   \n",
      "9996  Red white embroidered lehenga choli dupatta sh...   \n",
      "9997  Red beige embellished lehenga choli dupatta Re...   \n",
      "9998  Sea green gold-toned embellished lehenga choli...   \n",
      "9999  Yellow pink woven design lehenga choli dupatta...   \n",
      "\n",
      "                                             final_edit  \n",
      "0     Black printed Kurta Palazzos dupatta Kurta des...  \n",
      "1     Orange solid Kurta Palazzos dupatta Kurta desi...  \n",
      "2     Navy blue embroidered Kurta Trousers dupatta K...  \n",
      "3     Red printed kurta trouser dupatta Kurta design...  \n",
      "4     Black green printed straight kurta nitched rou...  \n",
      "...                                                 ...  \n",
      "9995  Beige blue solid lehenga choli dupatta Beige b...  \n",
      "9996  Red white embroidered lehenga choli dupatta sh...  \n",
      "9997  Red beige embellished lehenga choli dupatta Re...  \n",
      "9998  Sea green gold-toned embellished lehenga choli...  \n",
      "9999  Yellow pink woven design lehenga choli dupatta...  \n",
      "\n",
      "[10000 rows x 5 columns]\n"
     ]
    }
   ],
   "source": [
    "import pandas as pd\n",
    "import re\n",
    "\n",
    "# Example DataFrame\n",
    "'''data = {'text_column': [\"The model (height 5'8) is wearing a size S.\", \"This is a sentence without the pattern.\", \"Another sentence (height 6'1).\"]}\n",
    "df = pd.DataFrame(data)'''\n",
    "\n",
    "# Function to remove pattern\n",
    "def remove_pattern(text):\n",
    "    pattern = r'\\(height \\d\\'\\d\\\"\\)'\n",
    "    return re.sub(pattern, '', text)\n",
    "\n",
    "# Apply pattern removal to each row in the DataFrame\n",
    "desc['final_edit'] = desc['processed_text'].apply(remove_pattern)\n",
    "desc.to_csv(\"data_final.csv\")\n",
    "# Display the DataFrame with processed text\n",
    "print(desc)\n"
   ]
  },
  {
   "cell_type": "code",
   "execution_count": 83,
   "id": "92d7d587-68f6-4d06-9e31-1292369af985",
   "metadata": {
    "tags": []
   },
   "outputs": [
    {
     "data": {
      "text/plain": [
       "<10000x31255 sparse matrix of type '<class 'numpy.float64'>'\n",
       "\twith 310268 stored elements in Compressed Sparse Row format>"
      ]
     },
     "execution_count": 83,
     "metadata": {},
     "output_type": "execute_result"
    }
   ],
   "source": [
    "from nltk.corpus import stopwords\n",
    "stopwords = stopwords.words('english')\n",
    "vec = TfidfVectorizer(stop_words = stopwords, ngram_range = (2,2), use_idf = True)\n",
    "vectore = vec.fit_transform(product_descriptions)\n",
    "vectore"
   ]
  },
  {
   "cell_type": "code",
   "execution_count": 84,
   "id": "4e99260b-1913-46fb-bf0a-27d3c7af3a6c",
   "metadata": {
    "tags": []
   },
   "outputs": [
    {
     "data": {
      "text/html": [
       "<div>\n",
       "<style scoped>\n",
       "    .dataframe tbody tr th:only-of-type {\n",
       "        vertical-align: middle;\n",
       "    }\n",
       "\n",
       "    .dataframe tbody tr th {\n",
       "        vertical-align: top;\n",
       "    }\n",
       "\n",
       "    .dataframe thead th {\n",
       "        text-align: right;\n",
       "    }\n",
       "</style>\n",
       "<table border=\"1\" class=\"dataframe\">\n",
       "  <thead>\n",
       "    <tr style=\"text-align: right;\">\n",
       "      <th></th>\n",
       "      <th>Unnamed: 0</th>\n",
       "      <th>0</th>\n",
       "    </tr>\n",
       "  </thead>\n",
       "  <tbody>\n",
       "    <tr>\n",
       "      <th>0</th>\n",
       "      <td>0</td>\n",
       "      <td>(0, 4878)\\t0.05512294375646304\\n  (0, 3755)\\...</td>\n",
       "    </tr>\n",
       "    <tr>\n",
       "      <th>1</th>\n",
       "      <td>1</td>\n",
       "      <td>(0, 4929)\\t0.09296936886403519\\n  (0, 2137)\\...</td>\n",
       "    </tr>\n",
       "    <tr>\n",
       "      <th>2</th>\n",
       "      <td>2</td>\n",
       "      <td>(0, 2483)\\t0.1564641163037319\\n  (0, 345)\\t0...</td>\n",
       "    </tr>\n",
       "    <tr>\n",
       "      <th>3</th>\n",
       "      <td>3</td>\n",
       "      <td>(0, 477)\\t0.09729321298362177\\n  (0, 2867)\\t...</td>\n",
       "    </tr>\n",
       "    <tr>\n",
       "      <th>4</th>\n",
       "      <td>4</td>\n",
       "      <td>(0, 4118)\\t0.4616370448374549\\n  (0, 3978)\\t...</td>\n",
       "    </tr>\n",
       "  </tbody>\n",
       "</table>\n",
       "</div>"
      ],
      "text/plain": [
       "   Unnamed: 0                                                  0\n",
       "0           0    (0, 4878)\\t0.05512294375646304\\n  (0, 3755)\\...\n",
       "1           1    (0, 4929)\\t0.09296936886403519\\n  (0, 2137)\\...\n",
       "2           2    (0, 2483)\\t0.1564641163037319\\n  (0, 345)\\t0...\n",
       "3           3    (0, 477)\\t0.09729321298362177\\n  (0, 2867)\\t...\n",
       "4           4    (0, 4118)\\t0.4616370448374549\\n  (0, 3978)\\t..."
      ]
     },
     "execution_count": 84,
     "metadata": {},
     "output_type": "execute_result"
    }
   ],
   "source": [
    "product_vectors = vectorizer.fit_transform(product_descriptions)\n",
    "vector_data = pd.DataFrame(product_vectors)\n",
    "vector_data.to_csv(\"vec_Data.csv\")\n",
    "vec_data = pd.read_csv(\"vec_Data.csv\")\n",
    "vec_data.head()"
   ]
  },
  {
   "cell_type": "code",
   "execution_count": null,
   "id": "9960907e-9923-410c-85a9-92de43c3a325",
   "metadata": {
    "tags": []
   },
   "outputs": [],
   "source": [
    "# Preprocess and convert descriptions to vectors\n",
    "vectorizer = TfidfVectorizer()"
   ]
  },
  {
   "cell_type": "code",
   "execution_count": null,
   "id": "27d0ae21-c55f-420a-9c58-b674a6851989",
   "metadata": {
    "tags": []
   },
   "outputs": [],
   "source": [
    "# Define a function to clean HTML from descriptions\n",
    "def clean_html(text):\n",
    "  soup = BeautifulSoup(text, \"html.parser\")\n",
    "  return soup.get_text(separator=\" \")  # Remove HTML tags and keep text"
   ]
  },
  {
   "cell_type": "code",
   "execution_count": null,
   "id": "01437160-1b3f-46dc-857c-5a311f16a398",
   "metadata": {
    "tags": []
   },
   "outputs": [],
   "source": [
    "# Clean descriptions and create TF-IDF vectors\n",
    "product_descriptions = desc[\"description\"].apply(clean_html)\n",
    "print(type(product_descriptions))"
   ]
  },
  {
   "cell_type": "code",
   "execution_count": null,
   "id": "993b8911-ce92-449c-b003-024f56ccd2a9",
   "metadata": {
    "tags": []
   },
   "outputs": [],
   "source": [
    "new_df = pd.DataFrame(vectore.toarray(), columns = vec.get_feature_names_out())\n",
    "new_df.head()"
   ]
  },
  {
   "cell_type": "code",
   "execution_count": null,
   "id": "ccfb2015-dc9e-4c6a-8fcb-47093500c29b",
   "metadata": {
    "tags": []
   },
   "outputs": [],
   "source": [
    "new_idf = pd.DataFrame(vec.idf_, index = vec.get_feature_names_out(), columns = ['idf_weights'])\n",
    "new_idf.to_csv(\"new_idf.csv\")"
   ]
  },
  {
   "cell_type": "code",
   "execution_count": null,
   "id": "da637b91-3a29-4272-839a-7010a1161186",
   "metadata": {
    "tags": []
   },
   "outputs": [],
   "source": [
    "data_lines = matrix.splitlines()  # Split data into lines\n",
    "\n",
    "vector_values = []\n",
    "for line in data_lines:\n",
    "  # Split the line on whitespace (assuming spaces separate elements)\n",
    "  parts = line.split()\n",
    "  # Extract the value (last element after splitting)\n",
    "  value = float(parts[-1])\n",
    "  vector_values.append(value)\n"
   ]
  },
  {
   "cell_type": "code",
   "execution_count": null,
   "id": "c6f7071e-0c29-433c-ba4d-027ad149af2d",
   "metadata": {
    "tags": []
   },
   "outputs": [],
   "source": [
    "matrix = product_vectors.data\n",
    "column_indices = product_vectors.indices\n",
    "print(len(matrix), column_indices)"
   ]
  },
  {
   "cell_type": "code",
   "execution_count": null,
   "id": "1bcf7881-95c1-49df-aace-454a3e6ec12e",
   "metadata": {
    "tags": []
   },
   "outputs": [],
   "source": [
    "desc[[\"vectors\"]] = matrix\n",
    "desc.head()"
   ]
  },
  {
   "cell_type": "code",
   "execution_count": null,
   "id": "ec1d101f-c7c1-4c26-a290-764a4ce08962",
   "metadata": {
    "tags": []
   },
   "outputs": [],
   "source": [
    "delta = pd.DataFrame(product_vectors)\n",
    "delta.to_csv('data_val_3.csv')"
   ]
  },
  {
   "cell_type": "code",
   "execution_count": null,
   "id": "af7f84f2-3cd2-43c5-99b2-1571614ad2e5",
   "metadata": {
    "tags": []
   },
   "outputs": [],
   "source": [
    "# Get the vector of the liked product\n",
    "liked_product_vector = product_vectors[desc[\"p_id\"] == liked_product_id].toarray()[0]\n"
   ]
  },
  {
   "cell_type": "code",
   "execution_count": null,
   "id": "8b751718-cfc7-40c1-8977-a1e48d4d5aa7",
   "metadata": {
    "tags": []
   },
   "outputs": [],
   "source": [
    "# Calculate cosine similarity and recommend similar products (similar to previous steps)\n",
    "similarities = cosine_similarity(liked_product_vector.reshape(1, -1), product_vectors)\n",
    "sorted_products = sorted(enumerate(similarities.squeeze()), key=lambda x: x[1], reverse=True)[1:]"
   ]
  },
  {
   "cell_type": "code",
   "execution_count": null,
   "id": "9499d02e-00b2-4cd1-901c-f16e340254c1",
   "metadata": {
    "tags": []
   },
   "outputs": [],
   "source": [
    "print(f\"Recommendations for product {liked_product_id}:\")\n",
    "for i, score in sorted_products[:2]:\n",
    "  product_id = list(desc[\"p_id\"])[i]\n",
    "  print(f\"- Product {product_id} (score: {score:.2f})\")"
   ]
  },
  {
   "cell_type": "code",
   "execution_count": null,
   "id": "9a1a69fd-9b49-4d26-b3f0-cb4815b4b8ab",
   "metadata": {},
   "outputs": [],
   "source": [
    "\n",
    "def recommend_by_attributes(liked_product_description, product_data):\n",
    "  \"\"\"\n",
    "  Recommends products based on keyword matching and attribute extraction.\n",
    "\n",
    "  Args:\n",
    "      liked_product_description (str): Description of the product the user liked.\n",
    "      product_data (list): List of dictionaries where each dictionary represents a product\n",
    "          with keys like \"description\", \"category\" (optional).\n",
    "\n",
    "  Returns:\n",
    "      list: List of product IDs for recommended products.\n",
    "  \"\"\"\n",
    "\n",
    "  # Define keywords for different attributes (modify/expand as needed)\n",
    "  color_keywords = {\"black\", \"white\", \"red\", \"blue\", \"green\", ...}\n",
    "  pattern_keywords = {\"ethnic\", \"floral\", \"striped\", \"plaid\", ...}\n",
    "  # ... (add keywords for other desired attributes)\n",
    "\n",
    "  # Extract attributes from liked product description\n",
    "  liked_product_attributes = {}\n",
    "  for word in liked_product_description.lower().split():\n",
    "    if word in color_keywords:\n",
    "      liked_product_attributes[\"color\"] = word\n",
    "    elif word in pattern_keywords:\n",
    "      liked_product_attributes[\"pattern\"] = word\n",
    "    # ... (add logic for other attributes)\n",
    "\n",
    "  # Initialize empty list for recommendations\n",
    "  recommendations = []\n",
    "\n",
    "  # Loop through products and recommend based on matching keywords/attributes\n",
    "  for product in product_data:\n",
    "    product_description = product[\"description\"].lower()\n",
    "    matching_attributes = {}\n",
    "    for attribute, value in liked_product_attributes.items():\n",
    "      if value in product_description:\n",
    "        matching_attributes[attribute] = value\n",
    "    # You can adjust the logic for selecting recommendations here (e.g., number of matches)\n",
    "    if len(matching_attributes) >= 1:  # Recommend if at least one attribute matches\n",
    "      recommendations.append(product[\"p_id\"])  # Replace \"p_id\" with your product ID key\n",
    "\n",
    "  return recommendations\n",
    "\n",
    "# Example usage (replace with your actual product data)\n",
    "liked_product_description = \"Black and white regular top with ethnic motifs...\"\n",
    "product_data = [\n",
    "  {\"description\": \"Red dress with floral pattern...\", \"category\": \"dresses\"},\n",
    "  # ... (add more product data)\n",
    "]\n",
    "\n",
    "recommended_product_ids = recommend_by_attributes(liked_product_description, product_data)\n",
    "\n",
    "print(f\"Recommended product IDs: {recommended_product_ids}\")\n"
   ]
  },
  {
   "cell_type": "code",
   "execution_count": null,
   "id": "21689735-a5a0-4f02-8684-6529b794a775",
   "metadata": {},
   "outputs": [],
   "source": []
  }
 ],
 "metadata": {
  "kernelspec": {
   "display_name": "Python 3 (ipykernel)",
   "language": "python",
   "name": "python3"
  },
  "language_info": {
   "codemirror_mode": {
    "name": "ipython",
    "version": 3
   },
   "file_extension": ".py",
   "mimetype": "text/x-python",
   "name": "python",
   "nbconvert_exporter": "python",
   "pygments_lexer": "ipython3",
   "version": "3.9.19"
  }
 },
 "nbformat": 4,
 "nbformat_minor": 5
}
